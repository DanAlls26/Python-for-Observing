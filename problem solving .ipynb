{
 "cells": [
  {
   "cell_type": "code",
   "execution_count": 1,
   "metadata": {},
   "outputs": [],
   "source": [
    "import numpy as np \n",
    "from astropy import wcs\n",
    "from  astropy.io import fits\n",
    "import matplotlib.pyplot as plt \n",
    "from astropy.utils.data import get_pkg_data_filename\n",
    "from astroplan.plots import plot_finder_image\n",
    "from astroplan.plots import plot_sky\n",
    "from astroplan import FixedTarget\n",
    "from astropy.coordinates import SkyCoord\n",
    "import astropy.units as u\n",
    "import matplotlib.patches as patches "
   ]
  },
  {
   "cell_type": "code",
   "execution_count": 2,
   "metadata": {},
   "outputs": [],
   "source": [
    "imcordx = np.array([0.20,0.20,0.6,0.6,0.4])\n",
    "imcordy = np.array([0.17,0.62,0.62,0.17,0.4])\n",
    "imcordx = np.array([0.20,0.20,0.6,0.6,0.4])\n",
    "imcordy = np.array([0.17,0.62,0.62,0.17,0.4])"
   ]
  }
 ],
 "metadata": {
  "kernelspec": {
   "display_name": "Python 3",
   "language": "python",
   "name": "python3"
  },
  "language_info": {
   "codemirror_mode": {
    "name": "ipython",
    "version": 3
   },
   "file_extension": ".py",
   "mimetype": "text/x-python",
   "name": "python",
   "nbconvert_exporter": "python",
   "pygments_lexer": "ipython3",
   "version": "3.7.3"
  }
 },
 "nbformat": 4,
 "nbformat_minor": 2
}
